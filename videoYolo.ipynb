{
 "cells": [
  {
   "cell_type": "code",
   "execution_count": 1,
   "metadata": {},
   "outputs": [],
   "source": [
    "import cv2\n",
    "import numpy as np"
   ]
  },
  {
   "cell_type": "code",
   "execution_count": 2,
   "metadata": {},
   "outputs": [
    {
     "name": "stdout",
     "output_type": "stream",
     "text": [
      "3\n"
     ]
    }
   ],
   "source": [
    "a = 1\n",
    "b = 2\n",
    "\n",
    "a+b\n",
    "\n",
    "print(a+b)"
   ]
  },
  {
   "cell_type": "code",
   "execution_count": 6,
   "metadata": {},
   "outputs": [],
   "source": [
    "import cv2\n",
    "\n",
    "\n",
    "#재생할 동영상 파일 \n",
    "\n",
    "cap = cv2.VideoCapture('test.mp4') \n",
    "\n",
    "while(True): \n",
    "    ret, img_color = cap.read() \n",
    "    #동영상을 끝까지 재생하면 무한루프에서 빠져나옴 \n",
    "    if ret == False: \n",
    "        break \n",
    "    cv2.imshow(\"Color\", img_color) \n",
    "    #키보드 입력을 받기 위해서 대기시간 1초 줌 \n",
    "    if cv2.waitKey(1)&0xFF == 27: \n",
    "        break #자원 메모리 해제 \n",
    "cap.release() \n",
    "cv2.destroyAllWindows()"
   ]
  },
  {
   "cell_type": "code",
   "execution_count": 3,
   "metadata": {},
   "outputs": [
    {
     "name": "stdout",
     "output_type": "stream",
     "text": [
      "title =  참이슬 아이유 X 박서준 바이럴영상(30\")\n",
      "best.resolution 1280x720\n"
     ]
    }
   ],
   "source": [
    "# 유투브 비디오에서 얼굴 검출\n",
    "import numpy as np\n",
    "import cv2, pafy\n",
    "\n",
    "# 정면 얼굴 학습 파일을 가져와서 클래스 객체 생성\n",
    "faceCascade = cv2.CascadeClassifier(\n",
    "    'haarcascades/haarcascade_frontalface_default.xml')\n",
    "url = 'https://www.youtube.com/watch?v=S_0ikqqccJs'\n",
    "video = pafy.new(url)  # 유투브 동영상 프레임 가져오기\n",
    "print('title = ', video.title)\n",
    "\n",
    "best = video.getbest(preftype='mp4')\n",
    "print('best.resolution',best.resolution)\n",
    "\n",
    "cap = cv2.VideoCapture(best.url)\n",
    "while(True):\n",
    "    retval, frame = cap.read()\n",
    "    if not retval:\n",
    "        break\n",
    "    gray = cv2.cvtColor(frame, cv2.COLOR_BGR2GRAY)\n",
    "    # gray 영상에서 얼굴 영역을 faces 리스트에 검출하고 frame에 파란색 사각형 표시\n",
    "    cv2.imshow('frame',frame)\n",
    "    \n",
    "#     key = cv2.waitKey(1)\n",
    "    if cv2.waitKey(1)&0xFF == 27: \n",
    "        break #자원 메모리 해제 \n",
    "cap.release() \n",
    "cv2.destroyAllWindows()\n",
    "# cap.release()\n",
    "# cv2.destroyAllWindows()"
   ]
  },
  {
   "cell_type": "code",
   "execution_count": 5,
   "metadata": {},
   "outputs": [
    {
     "name": "stdout",
     "output_type": "stream",
     "text": [
      "25.0\n"
     ]
    }
   ],
   "source": [
    "video = cv2.VideoCapture('test.mp4') \n",
    "classes = []\n",
    "font = cv2.FONT_HERSHEY_PLAIN\n",
    "net = cv2.dnn.readNet(\"yolov3.weights\", \"yolov3.cfg\")\n",
    "\n",
    "net.setPreferableTarget(cv2.dnn.DNN_TARGET_OPENCL)\n",
    "fps = video.get(cv2.CAP_PROP_FPS)\n",
    "print(fps)\n",
    "classes = []\n",
    "with open(\"coco.names\", \"r\") as f:\n",
    "    classes = [line.strip() for line in f.readlines()]\n",
    "layer_names = net.getLayerNames()\n",
    "output_layers = [layer_names[i[0] - 1] for i in net.getUnconnectedOutLayers()]\n",
    "\n",
    "\n",
    "colors = np.random.uniform(0, 255, size=(len(classes), 3))\n",
    "\n",
    "w = round(video.get(cv2.CAP_PROP_FRAME_WIDTH))\n",
    "h = round(video.get(cv2.CAP_PROP_FRAME_HEIGHT))\n",
    "#fps = cap.get(cv2.CAP_PROP_FPS)\n",
    "fourcc = cv2.VideoWriter_fourcc(*'DIVX')\n",
    "\n",
    "output = cv2.VideoWriter('output12.mp4', fourcc, fps, (w, h))\n",
    "\n",
    "while(True):\n",
    "    ret,frame =video.read()\n",
    "    if ret ==False:\n",
    "        break\n",
    "    h,w,c= frame.shape\n",
    "    \n",
    "    blob =cv2.dnn.blobFromImage(frame,0.00392,(416,416),(0,0,0), True, crop=False)\n",
    "    net.setInput(blob)\n",
    "    outs=net.forward(output_layers)\n",
    "    \n",
    "    class_ids=[]\n",
    "    confidences=[]\n",
    "    boxes=[]\n",
    "    \n",
    "    for out in outs:\n",
    "        for detection in out:\n",
    "            \n",
    "            scores=detection[5:]\n",
    "            class_id=np.argmax(scores)\n",
    "            confidence = scores[class_id]\n",
    "            \n",
    "            if confidence > 0.5:\n",
    "                center_x = int(detection[0]*w)\n",
    "                center_y = int(detection[1]*h)\n",
    "                \n",
    "                w = int(detection[2] * w)\n",
    "                h = int(detection[3] * h)\n",
    "                # Rectangle coordinates\n",
    "                x = int(center_x - w / 2)\n",
    "                y = int(center_y - h / 2)\n",
    "                boxes.append([x, y, w, h])\n",
    "                confidences.append(float(confidence))\n",
    "                class_ids.append(class_id)\n",
    "                \n",
    "                \n",
    "                \n",
    "                \n",
    "    indexes = cv2.dnn.NMSBoxes(boxes, confidences, 0.5, 0.4)\n",
    "    \n",
    "    for i in range(len(boxes)):\n",
    "        if i in indexes:\n",
    "            x,y,w,h = boxes[i]\n",
    "            color = colors[i]\n",
    "            label =str(classes[class_ids[i]])\n",
    "            score=confidences[i]\n",
    "            \n",
    "            \n",
    "            #경계상자와 클래스 정보 이미지에 입력\n",
    "            \n",
    "            cv2.rectangle(frame, (x, y), (x + w, y + h), color, 2)\n",
    "            cv2.putText(frame, label, (x, y -10), font, 2, color, 3)\n",
    "            \n",
    "            output.write(frame)        \n",
    "    cv2.imshow(\"test\",frame)\n",
    "    \n",
    "    if cv2.waitKey(27)&0xFF == 27: \n",
    "        break #자원 메모리 해제\n",
    "        \n",
    "video.release()\n",
    "output.release()\n",
    "cv2.destroyAllWindows()"
   ]
  },
  {
   "cell_type": "code",
   "execution_count": null,
   "metadata": {},
   "outputs": [],
   "source": []
  }
 ],
 "metadata": {
  "kernelspec": {
   "display_name": "Python 3",
   "language": "python",
   "name": "python3"
  },
  "language_info": {
   "codemirror_mode": {
    "name": "ipython",
    "version": 3
   },
   "file_extension": ".py",
   "mimetype": "text/x-python",
   "name": "python",
   "nbconvert_exporter": "python",
   "pygments_lexer": "ipython3",
   "version": "3.8.5"
  }
 },
 "nbformat": 4,
 "nbformat_minor": 2
}
