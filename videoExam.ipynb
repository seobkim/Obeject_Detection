{
 "cells": [
  {
   "cell_type": "code",
   "execution_count": 8,
   "metadata": {},
   "outputs": [],
   "source": [
    "import cv2\n",
    "import matplotlib.pyplot as plt\n",
    "\n",
    "\n",
    "\n",
    "font = cv2.FONT_HERSHEY_PLAIN\n",
    "cap = cv2.VideoCapture(\"sampleV2.mp4\")\n",
    "import numpy as np\n",
    "colors = np.random.uniform(0, 255, size=(2, 3))\n",
    "\n",
    "colors\n",
    "cap.get(cv2.CAP_PROP_FPS)\n",
    "\n",
    "w = round(cap.get(cv2.CAP_PROP_FRAME_WIDTH))\n",
    "h = round(cap.get(cv2.CAP_PROP_FRAME_HEIGHT))\n",
    "fps = cap.get(cv2.CAP_PROP_FPS)\n",
    "fourcc = cv2.VideoWriter_fourcc(*'DIVX')\n",
    "\n",
    "out = cv2.VideoWriter('output.mp4', fourcc, fps, (w, h))\n",
    "\n",
    "while cap.isOpened():\n",
    "    success,frame = cap.read()\n",
    "    \n",
    "    if success:\n",
    "        #print(frame.shape) # resize 224.224 해야함\n",
    "        \n",
    "        #data=cv2.resize(frame,(224,224))\n",
    "        #data=frame/255\n",
    "        ii=cv2.cvtColor(frame, cv2.COLOR_BGR2RGB)\n",
    "\n",
    "        #plt.imshow(ii)\n",
    "        #plt.show()\n",
    "        \n",
    "        \n",
    "        \n",
    "        #print(data.shape)\n",
    "        \n",
    "        cv2.putText(frame, \"label\", (550, 350), font, 2, [255,255,255], 3)\n",
    "        out.write(frame)\n",
    "        cv2.imshow('test',frame)\n",
    "        \n",
    "        if cv2.waitKey(25)&0xFF == 27: \n",
    "            break #자원 메모리 해제 \n",
    "            \n",
    "    else :\n",
    "        break\n",
    "cap.release()\n",
    "out.release()\n",
    "cv2.destroyAllWindows()"
   ]
  },
  {
   "cell_type": "code",
   "execution_count": null,
   "metadata": {},
   "outputs": [],
   "source": []
  }
 ],
 "metadata": {
  "kernelspec": {
   "display_name": "Python 3",
   "language": "python",
   "name": "python3"
  },
  "language_info": {
   "codemirror_mode": {
    "name": "ipython",
    "version": 3
   },
   "file_extension": ".py",
   "mimetype": "text/x-python",
   "name": "python",
   "nbconvert_exporter": "python",
   "pygments_lexer": "ipython3",
   "version": "3.8.5"
  }
 },
 "nbformat": 4,
 "nbformat_minor": 4
}
